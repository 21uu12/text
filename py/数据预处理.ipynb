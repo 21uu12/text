{
 "cells": [
  {
   "cell_type": "code",
   "execution_count": 3,
   "metadata": {},
   "outputs": [],
   "source": [
    "import os\n",
    "\n",
    "os.makedirs(os.path.join('..','data'),exist_ok=True)\n",
    "#写入数据\n",
    "data_file=os.path.join('..','data','house_tiny.csv')\n",
    "with open(data_file,'w') as f:\n",
    "    input='NumRooms'\n",
    "    out='Alley'\n",
    "    z='Price'\n",
    "    f.write(f'{input},{out},{z},\\n')\n",
    "    f.write('NA,Pave,127500\\n')\n",
    "    f.write('2,NA,106000\\n')\n",
    "    f.write('4,NA,178100\\n')\n",
    "    f.write('NA,NA,140000\\n')\n",
    "\n"
   ]
  },
  {
   "cell_type": "code",
   "execution_count": 82,
   "metadata": {},
   "outputs": [
    {
     "data": {
      "text/html": [
       "<div>\n",
       "<style scoped>\n",
       "    .dataframe tbody tr th:only-of-type {\n",
       "        vertical-align: middle;\n",
       "    }\n",
       "\n",
       "    .dataframe tbody tr th {\n",
       "        vertical-align: top;\n",
       "    }\n",
       "\n",
       "    .dataframe thead th {\n",
       "        text-align: right;\n",
       "    }\n",
       "</style>\n",
       "<table border=\"1\" class=\"dataframe\">\n",
       "  <thead>\n",
       "    <tr style=\"text-align: right;\">\n",
       "      <th></th>\n",
       "      <th>NumRooms</th>\n",
       "      <th>Alley</th>\n",
       "      <th>Price</th>\n",
       "    </tr>\n",
       "  </thead>\n",
       "  <tbody>\n",
       "    <tr>\n",
       "      <th>0</th>\n",
       "      <td>NaN</td>\n",
       "      <td>Pave</td>\n",
       "      <td>NaN</td>\n",
       "    </tr>\n",
       "    <tr>\n",
       "      <th>1</th>\n",
       "      <td>2.0</td>\n",
       "      <td>dhhaj</td>\n",
       "      <td>NaN</td>\n",
       "    </tr>\n",
       "    <tr>\n",
       "      <th>2</th>\n",
       "      <td>4.0</td>\n",
       "      <td>NaN</td>\n",
       "      <td>NaN</td>\n",
       "    </tr>\n",
       "    <tr>\n",
       "      <th>3</th>\n",
       "      <td>NaN</td>\n",
       "      <td>NaN</td>\n",
       "      <td>NaN</td>\n",
       "    </tr>\n",
       "    <tr>\n",
       "      <th>4</th>\n",
       "      <td>NaN</td>\n",
       "      <td>NaN</td>\n",
       "      <td>NaN</td>\n",
       "    </tr>\n",
       "    <tr>\n",
       "      <th>5</th>\n",
       "      <td>NaN</td>\n",
       "      <td>NaN</td>\n",
       "      <td>NaN</td>\n",
       "    </tr>\n",
       "    <tr>\n",
       "      <th>6</th>\n",
       "      <td>NaN</td>\n",
       "      <td>NaN</td>\n",
       "      <td>NaN</td>\n",
       "    </tr>\n",
       "    <tr>\n",
       "      <th>7</th>\n",
       "      <td>NaN</td>\n",
       "      <td>NaN</td>\n",
       "      <td>NaN</td>\n",
       "    </tr>\n",
       "  </tbody>\n",
       "</table>\n",
       "</div>"
      ],
      "text/plain": [
       "   NumRooms  Alley  Price\n",
       "0       NaN   Pave    NaN\n",
       "1       2.0  dhhaj    NaN\n",
       "2       4.0    NaN    NaN\n",
       "3       NaN    NaN    NaN\n",
       "4       NaN    NaN    NaN\n",
       "5       NaN    NaN    NaN\n",
       "6       NaN    NaN    NaN\n",
       "7       NaN    NaN    NaN"
      ]
     },
     "execution_count": 82,
     "metadata": {},
     "output_type": "execute_result"
    }
   ],
   "source": [
    "import pandas as pd\n",
    "#读入数据\n",
    "data=pd.read_csv('../data/house_tiny.csv')\n",
    "data"
   ]
  },
  {
   "cell_type": "code",
   "execution_count": 83,
   "metadata": {},
   "outputs": [
    {
     "name": "stdout",
     "output_type": "stream",
     "text": [
      "   NumRooms  Alley\n",
      "0       NaN   Pave\n",
      "1       2.0  dhhaj\n",
      "2       4.0    NaN\n",
      "3       NaN    NaN\n",
      "4       NaN    NaN\n",
      "5       NaN    NaN\n",
      "6       NaN    NaN\n",
      "7       NaN    NaN\n",
      "   Price\n",
      "0    NaN\n",
      "1    NaN\n",
      "2    NaN\n",
      "3    NaN\n",
      "4    NaN\n",
      "5    NaN\n",
      "6    NaN\n",
      "7    NaN\n",
      "   NumRooms  Alley\n",
      "0       3.0   Pave\n",
      "1       2.0  dhhaj\n",
      "2       4.0    NaN\n",
      "3       3.0    NaN\n",
      "4       3.0    NaN\n",
      "5       3.0    NaN\n",
      "6       3.0    NaN\n",
      "7       3.0    NaN\n"
     ]
    },
    {
     "name": "stderr",
     "output_type": "stream",
     "text": [
      "/var/folders/gv/kg_fzj49523g47cvbk6pwmyc0000gn/T/ipykernel_5084/1953307288.py:7: FutureWarning: The default value of numeric_only in DataFrame.mean is deprecated. In a future version, it will default to False. In addition, specifying 'numeric_only=None' is deprecated. Select only valid columns or specify the value of numeric_only to silence this warning.\n",
      "  input=input.fillna(input.mean())\n"
     ]
    }
   ],
   "source": [
    "input=data.iloc[:,0:2]\n",
    "print(input)\n",
    "#注，iloc对索引数字操作，loc对字段操作\n",
    "output=data.iloc[:,2:3]\n",
    "print(output)\n",
    "\n",
    "input=input.fillna(input.mean())\n",
    "print(input)\n"
   ]
  },
  {
   "cell_type": "code",
   "execution_count": 85,
   "metadata": {},
   "outputs": [
    {
     "name": "stdout",
     "output_type": "stream",
     "text": [
      "   NumRooms  Alley_Pave  Alley_dhhaj\n",
      "0       3.0           1            0\n",
      "1       2.0           0            1\n",
      "2       4.0           0            0\n",
      "3       3.0           0            0\n",
      "4       3.0           0            0\n",
      "5       3.0           0            0\n",
      "6       3.0           0            0\n",
      "7       3.0           0            0\n"
     ]
    }
   ],
   "source": [
    "inputs=pd.get_dummies(input,)\n",
    "# 是否给空值再加一行\n",
    "print(inputs)"
   ]
  },
  {
   "cell_type": "code",
   "execution_count": 86,
   "metadata": {},
   "outputs": [
    {
     "data": {
      "text/plain": [
       "(tensor([[3, 1, 0],\n",
       "         [2, 0, 1],\n",
       "         [4, 0, 0],\n",
       "         [3, 0, 0],\n",
       "         [3, 0, 0],\n",
       "         [3, 0, 0],\n",
       "         [3, 0, 0],\n",
       "         [3, 0, 0]]),\n",
       " tensor([[nan],\n",
       "         [nan],\n",
       "         [nan],\n",
       "         [nan],\n",
       "         [nan],\n",
       "         [nan],\n",
       "         [nan],\n",
       "         [nan]], dtype=torch.float64))"
      ]
     },
     "execution_count": 86,
     "metadata": {},
     "output_type": "execute_result"
    }
   ],
   "source": [
    "import torch\n",
    "x=torch.tensor(inputs.to_numpy(int))\n",
    "y=torch.tensor(output.to_numpy(float))\n",
    "x,y"
   ]
  },
  {
   "cell_type": "code",
   "execution_count": 77,
   "metadata": {},
   "outputs": [
    {
     "name": "stdout",
     "output_type": "stream",
     "text": [
      "   NumRooms Alley  Price\n",
      "0       NaN  Pave    NaN\n",
      "1       2.0   NaN    NaN\n",
      "2       4.0   NaN    NaN\n",
      "3       NaN   NaN    NaN\n",
      "4       NaN   NaN    NaN\n",
      "5       NaN   NaN    NaN\n",
      "6       NaN   NaN    NaN\n",
      "7       NaN   NaN    NaN\n",
      "NumRooms    6\n",
      "Alley       7\n",
      "Price       8\n",
      "dtype: int64\n",
      "[6 7 8]\n"
     ]
    },
    {
     "data": {
      "text/html": [
       "<div>\n",
       "<style scoped>\n",
       "    .dataframe tbody tr th:only-of-type {\n",
       "        vertical-align: middle;\n",
       "    }\n",
       "\n",
       "    .dataframe tbody tr th {\n",
       "        vertical-align: top;\n",
       "    }\n",
       "\n",
       "    .dataframe thead th {\n",
       "        text-align: right;\n",
       "    }\n",
       "</style>\n",
       "<table border=\"1\" class=\"dataframe\">\n",
       "  <thead>\n",
       "    <tr style=\"text-align: right;\">\n",
       "      <th></th>\n",
       "      <th>NumRooms</th>\n",
       "      <th>Alley</th>\n",
       "    </tr>\n",
       "  </thead>\n",
       "  <tbody>\n",
       "    <tr>\n",
       "      <th>0</th>\n",
       "      <td>NaN</td>\n",
       "      <td>Pave</td>\n",
       "    </tr>\n",
       "    <tr>\n",
       "      <th>1</th>\n",
       "      <td>2.0</td>\n",
       "      <td>NaN</td>\n",
       "    </tr>\n",
       "    <tr>\n",
       "      <th>2</th>\n",
       "      <td>4.0</td>\n",
       "      <td>NaN</td>\n",
       "    </tr>\n",
       "    <tr>\n",
       "      <th>3</th>\n",
       "      <td>NaN</td>\n",
       "      <td>NaN</td>\n",
       "    </tr>\n",
       "    <tr>\n",
       "      <th>4</th>\n",
       "      <td>NaN</td>\n",
       "      <td>NaN</td>\n",
       "    </tr>\n",
       "    <tr>\n",
       "      <th>5</th>\n",
       "      <td>NaN</td>\n",
       "      <td>NaN</td>\n",
       "    </tr>\n",
       "    <tr>\n",
       "      <th>6</th>\n",
       "      <td>NaN</td>\n",
       "      <td>NaN</td>\n",
       "    </tr>\n",
       "    <tr>\n",
       "      <th>7</th>\n",
       "      <td>NaN</td>\n",
       "      <td>NaN</td>\n",
       "    </tr>\n",
       "  </tbody>\n",
       "</table>\n",
       "</div>"
      ],
      "text/plain": [
       "   NumRooms Alley\n",
       "0       NaN  Pave\n",
       "1       2.0   NaN\n",
       "2       4.0   NaN\n",
       "3       NaN   NaN\n",
       "4       NaN   NaN\n",
       "5       NaN   NaN\n",
       "6       NaN   NaN\n",
       "7       NaN   NaN"
      ]
     },
     "execution_count": 77,
     "metadata": {},
     "output_type": "execute_result"
    }
   ],
   "source": [
    "#work1\n",
    "import pandas as pd\n",
    "max_name=0\n",
    "max_na=0\n",
    "data=pd.read_csv('../data/house_tiny.csv')\n",
    "print(data)\n",
    "df_=data.isna().sum()\n",
    "print(df_)\n",
    "print(df_.values)\n",
    "for name,value in zip(df_.index,df_.values):\n",
    "    if max_na<value:\n",
    "        max_na=value\n",
    "        max_name=name\n",
    "    else:\n",
    "        pass\n",
    "data.drop(columns=max_name,axis=1)\n",
    "\n",
    "    \n",
    "\n",
    "    \n",
    "        \n",
    "    \n"
   ]
  }
 ],
 "metadata": {
  "kernelspec": {
   "display_name": "myenv",
   "language": "python",
   "name": "python3"
  },
  "language_info": {
   "codemirror_mode": {
    "name": "ipython",
    "version": 3
   },
   "file_extension": ".py",
   "mimetype": "text/x-python",
   "name": "python",
   "nbconvert_exporter": "python",
   "pygments_lexer": "ipython3",
   "version": "3.11.4"
  },
  "orig_nbformat": 4
 },
 "nbformat": 4,
 "nbformat_minor": 2
}
